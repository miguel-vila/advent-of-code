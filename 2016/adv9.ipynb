{
 "cells": [
  {
   "cell_type": "code",
   "execution_count": 38,
   "metadata": {
    "collapsed": false
   },
   "outputs": [
    {
     "name": "stdout",
     "output_type": "stream",
     "text": [
      "passed!\n",
      "115118\n",
      "11107527530\n"
     ]
    }
   ],
   "source": [
    "def dec_length(s, part1= True):\n",
    "    i = 0\n",
    "    length = 0\n",
    "    while i < len(s):\n",
    "        if s[i] == '(':\n",
    "            j = i + 1\n",
    "            while s[j] != ')' and j < len(s):\n",
    "                j += 1\n",
    "            chars, times = map(int, s[i+1:j].split('x'))\n",
    "            length += times * ( chars if part1 else dec_length(s[j+1:j+1+chars],False) )\n",
    "            i = j + chars +1\n",
    "        else:\n",
    "            i += 1\n",
    "            length += 1\n",
    "    return length\n",
    "\n",
    "assert( dec_length(\"(1x3)A\") == 3 )\n",
    "assert( dec_length(\"(2x3)BC\") == 6 )\n",
    "assert( dec_length(\"(1x3)AXXX\") == 6 )\n",
    "assert( dec_length(\"AAA(1x3)AXXX\") == 9 )\n",
    "assert( dec_length(\"ADVENT\") == 6 )\n",
    "assert( dec_length(\"(6x1)(1x3)A\") == 6 )\n",
    "assert( dec_length(\"A(1x5)BC\") == 7 )\n",
    "assert( dec_length(\"X(8x2)(3x3)ABCY\") == 18 )\n",
    "assert( dec_length(\"(12x5)XTXXAJCPTWYL(1x14)I\") == 74 )\n",
    "print( \"passed!\" )\n",
    "\n",
    "with open('input9.txt','r') as file_h:\n",
    "    file_content = file_h.read().strip()\n",
    "print(dec_length(file_content))\n",
    "\n",
    "\n",
    "assert( dec_length(\"X(8x2)(3x3)ABCY\", False) == len(\"XABCABCABCABCABCABCY\"))\n",
    "assert( dec_length(\"(27x12)(20x12)(13x14)(7x10)(1x12)A\", False) == 241920)\n",
    "assert( dec_length(\"(3x3)XYZ\", False) == len(\"XYZXYZXYZ\"))\n",
    "assert( dec_length(\"(25x3)(3x3)ABC(2x3)XY(5x2)PQRSTX(18x9)(3x2)TWO(5x7)SEVEN\", False) == 445)\n",
    "\n",
    "print( dec_length(file_content, part1 = False) )"
   ]
  }
 ],
 "metadata": {
  "anaconda-cloud": {},
  "kernelspec": {
   "display_name": "Python [default]",
   "language": "python",
   "name": "python3"
  },
  "language_info": {
   "codemirror_mode": {
    "name": "ipython",
    "version": 3
   },
   "file_extension": ".py",
   "mimetype": "text/x-python",
   "name": "python",
   "nbconvert_exporter": "python",
   "pygments_lexer": "ipython3",
   "version": "3.5.2"
  }
 },
 "nbformat": 4,
 "nbformat_minor": 1
}
