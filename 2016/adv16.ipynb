{
 "cells": [
  {
   "cell_type": "code",
   "execution_count": 41,
   "metadata": {
    "collapsed": false
   },
   "outputs": [
    {
     "data": {
      "text/plain": [
       "'10001110010000110'"
      ]
     },
     "execution_count": 41,
     "metadata": {},
     "output_type": "execute_result"
    }
   ],
   "source": [
    "def reversed_and_inverted(a):\n",
    "    return \"\".join([ '0' if c == '1' else '1' for c in a[::-1] ])\n",
    "\n",
    "def step(a):\n",
    "    b = reversed_and_inverted(a)\n",
    "    return \"{}0{}\".format(a,b)\n",
    "\n",
    "assert(reversed_and_inverted(\"010100\") == \"110101\")\n",
    "assert(step(\"1\") == \"100\")\n",
    "assert(step(\"111100001010\") == \"1111000010100101011110000\")\n",
    "\n",
    "def generate_data(seed, max_size):\n",
    "    output = seed\n",
    "    while len(output) < max_size:\n",
    "        output = step(output)\n",
    "    return output[:max_size]\n",
    "\n",
    "def checksum(s):\n",
    "    assert(len(s)%2 == 0)\n",
    "    checks = []\n",
    "    inp = s\n",
    "    while len(inp) % 2 == 0:\n",
    "        checks = []\n",
    "        for i in range(0,len(inp),2):\n",
    "            checks.append('1' if inp[i] == inp[i+1] else '0')\n",
    "        inp = checks[:]\n",
    "    return \"\".join(checks)\n",
    "\n",
    "assert( checksum(\"110010110100\") == \"100\" )\n",
    "\n",
    "data = generate_data(\"10000\", 20)\n",
    "assert(data == \"10000011110010000111\")\n",
    "assert(checksum(data) == \"01100\")\n",
    "\n",
    "checksum(generate_data(\"01110110101001000\",35651584))"
   ]
  }
 ],
 "metadata": {
  "anaconda-cloud": {},
  "kernelspec": {
   "display_name": "Python [default]",
   "language": "python",
   "name": "python3"
  },
  "language_info": {
   "codemirror_mode": {
    "name": "ipython",
    "version": 3
   },
   "file_extension": ".py",
   "mimetype": "text/x-python",
   "name": "python",
   "nbconvert_exporter": "python",
   "pygments_lexer": "ipython3",
   "version": "3.5.2"
  }
 },
 "nbformat": 4,
 "nbformat_minor": 1
}
