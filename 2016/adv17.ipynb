{
 "cells": [
  {
   "cell_type": "code",
   "execution_count": 55,
   "metadata": {
    "collapsed": false
   },
   "outputs": [
    {
     "data": {
      "text/plain": [
       "'DDRRRD'"
      ]
     },
     "execution_count": 55,
     "metadata": {},
     "output_type": "execute_result"
    }
   ],
   "source": [
    "import hashlib\n",
    "from collections import deque\n",
    "\n",
    "def is_open_char(c):\n",
    "    return 'b' <= c <= 'f'\n",
    "\n",
    "max_x, max_y = 4,4\n",
    "\n",
    "dirs_chars = ['U','D','L','R']\n",
    "\n",
    "def neighbours_coords(i,j):\n",
    "    return [ (i-1,j) if i > 0         else None\n",
    "           , (i+1,j) if i < max_x - 1 else None\n",
    "           , (i,j-1) if j > 0         else None\n",
    "           , (i,j+1) if j < max_y - 1 else None\n",
    "           ]\n",
    "\n",
    "class Adv17:\n",
    "    \n",
    "    def __init__(self, puzzle_input, target):\n",
    "        self.puzzle_input = puzzle_input\n",
    "        self.target = target\n",
    "\n",
    "    def md5(self, dirs):\n",
    "        return hashlib.md5(\"{}{}\".format(self.puzzle_input,dirs).encode('utf-8')).hexdigest()[:4]\n",
    "\n",
    "    def neighbours(self, pos, dirs):\n",
    "        i, j = pos\n",
    "        opens = map(is_open_char, self.md5(dirs))\n",
    "        opens_with_dirs = map( lambda x : x[1] if x[0] else None, zip(opens, dirs_chars) )\n",
    "        coords = neighbours_coords(i,j)\n",
    "        return filter( all, zip(coords, opens_with_dirs) )\n",
    "    \n",
    "    def part1(self):\n",
    "        init = ((0,0), '')\n",
    "        \n",
    "        queue = deque()\n",
    "        queue.append(init)\n",
    "        visited = set()\n",
    "        \n",
    "        while len(queue) > 0:\n",
    "            pos, dirs = queue.popleft()\n",
    "            if pos == self.target:\n",
    "                return dirs\n",
    "            for n_pos, n_dir in self.neighbours(pos, dirs):\n",
    "                n_dirs = dirs + n_dir\n",
    "                if not (n_pos,n_dirs) in visited:\n",
    "                    visited.add( (n_pos,n_dirs) )\n",
    "                    queue.append( (n_pos,n_dirs) )\n",
    "        print('!')            \n",
    "\n",
    "adv17 = Adv17('ihgpwlah', (3,3))\n",
    "\n",
    "list(adv17.neighbours((0,0),''))\n",
    "\n",
    "adv17.part1()"
   ]
  }
 ],
 "metadata": {
  "anaconda-cloud": {},
  "kernelspec": {
   "display_name": "Python [default]",
   "language": "python",
   "name": "python3"
  },
  "language_info": {
   "codemirror_mode": {
    "name": "ipython",
    "version": 3
   },
   "file_extension": ".py",
   "mimetype": "text/x-python",
   "name": "python",
   "nbconvert_exporter": "python",
   "pygments_lexer": "ipython3",
   "version": "3.5.2"
  }
 },
 "nbformat": 4,
 "nbformat_minor": 1
}
