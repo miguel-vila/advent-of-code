{
 "cells": [
  {
   "cell_type": "code",
   "execution_count": 3,
   "metadata": {
    "collapsed": false
   },
   "outputs": [
    {
     "name": "stdout",
     "output_type": "stream",
     "text": [
      "(5, 0)\n"
     ]
    },
    {
     "data": {
      "text/plain": [
       "5"
      ]
     },
     "execution_count": 3,
     "metadata": {},
     "output_type": "execute_result"
    }
   ],
   "source": [
    "\n",
    "def turnR(dir):\n",
    "    if dir == (0,1): #N\n",
    "        return (1,0)\n",
    "    if dir == (0,-1): #S\n",
    "        return (-1,0)\n",
    "    if dir == (1,0): #E\n",
    "        return (0,-1)\n",
    "    return (1,0)\n",
    "\n",
    "def turnL(dir):\n",
    "    return turnR(turnR(turnR(dir)))\n",
    "\n",
    "def adv1(dirs):\n",
    "    dir = (0,1)\n",
    "    pos = (0,0)\n",
    "    for turnD, steps in dirs:\n",
    "        if turnD == 'L':\n",
    "            dir = turnL(dir)\n",
    "        elif turnD == 'R':\n",
    "            dir = turnR(dir)\n",
    "        else:\n",
    "            raise Error(\"unkown dir {}\".format(turnD))\n",
    "        dirX,dirY = dir\n",
    "        posX,posY = pos\n",
    "        pos = (posX+dirX*steps, posY+dirY*steps)\n",
    "    posX,posY = pos\n",
    "    print pos\n",
    "    return abs(posX) + abs(posY)\n",
    "\n",
    "adv1([('R',2),('L',3)])\n",
    "adv1([('R',2),('L',3)])\n"
   ]
  }
 ],
 "metadata": {
  "kernelspec": {
   "display_name": "Python 2",
   "language": "python",
   "name": "python2"
  },
  "language_info": {
   "codemirror_mode": {
    "name": "ipython",
    "version": 2
   },
   "file_extension": ".py",
   "mimetype": "text/x-python",
   "name": "python",
   "nbconvert_exporter": "python",
   "pygments_lexer": "ipython2",
   "version": "2.7.12"
  }
 },
 "nbformat": 4,
 "nbformat_minor": 1
}
