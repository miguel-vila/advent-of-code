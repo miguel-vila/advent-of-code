{
 "cells": [
  {
   "cell_type": "code",
   "execution_count": null,
   "metadata": {
    "collapsed": false
   },
   "outputs": [],
   "source": [
    "import hashlib\n",
    "\n",
    "def password(doorId):\n",
    "    i = 0\n",
    "    password = \"\"\n",
    "    while len(password)<8:\n",
    "        hash = hashlib.md5(\"{}{}\".format(doorId,i)).hexdigest()\n",
    "        if hash.startswith(\"0\"*5):\n",
    "            password = password + hash[5]\n",
    "        i+=1\n",
    "    return password\n",
    "\n",
    "password(\"abc\")"
   ]
  }
 ],
 "metadata": {
  "kernelspec": {
   "display_name": "Python 2",
   "language": "python",
   "name": "python2"
  },
  "language_info": {
   "codemirror_mode": {
    "name": "ipython",
    "version": 2
   },
   "file_extension": ".py",
   "mimetype": "text/x-python",
   "name": "python",
   "nbconvert_exporter": "python",
   "pygments_lexer": "ipython2",
   "version": "2.7.12"
  }
 },
 "nbformat": 4,
 "nbformat_minor": 1
}
