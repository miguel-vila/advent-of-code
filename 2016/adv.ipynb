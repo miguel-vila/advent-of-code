{
 "cells": [
  {
   "cell_type": "code",
   "execution_count": 33,
   "metadata": {
    "collapsed": false
   },
   "outputs": [],
   "source": [
    "def turn_r(dir):\n",
    "    if dir == (0,1): #N\n",
    "        return (1,0)\n",
    "    if dir == (0,-1): #S\n",
    "        return (-1,0)\n",
    "    if dir == (1,0): #E\n",
    "        return (0,-1)\n",
    "    return (0,1)\n",
    "\n",
    "def turn_l(dir):\n",
    "    return turn_r(turn_r(turn_r(dir)))\n",
    "\n",
    "def adv1(dirs, stop_on_visited = False):\n",
    "    dir_x , dir_y = 0,1\n",
    "    pos_x , pos_y = 0,0\n",
    "    visited = set()\n",
    "    for turn_dir, steps in dirs:\n",
    "        dir_x, dir_y = turn_l((dir_x, dir_y)) if turn_dir == 'L' else turn_r((dir_x, dir_y))\n",
    "        found_visited = False\n",
    "        for _ in range(steps):\n",
    "            if dir_y == 0:\n",
    "                pos_x += dir_x\n",
    "            else:\n",
    "                pos_y += dir_y\n",
    "            if (pos_x,pos_y) in visited and stop_on_visited:\n",
    "                found_visited = True\n",
    "                break\n",
    "            visited.add( (pos_x,pos_y) )\n",
    "        if found_visited:\n",
    "            break\n",
    "    return abs(pos_x) + abs(pos_y)\n",
    "\n",
    "def from_string(str):\n",
    "    return [(segment[0], int(segment[1:])) for segment in str.split(\", \")]\n",
    "\n",
    "input = \"L4, L1, R4, R1, R1, L3, R5, L5, L2, L3, R2, R1, L4, R5, R4, L2, R1, R3, L5, R1, L3, L2, R5, L4, L5, R1, R2, L1, R5, L3, R2, R2, L1, R5, R2, L1, L1, R2, L1, R1, L2, L2, R4, R3, R2, L3, L188, L3, R2, R54, R1, R1, L2, L4, L3, L2, R3, L1, L1, R3, R5, L1, R5, L1, L1, R2, R4, R4, L5, L4, L1, R2, R4, R5, L2, L3, R5, L5, R1, R5, L2, R4, L2, L1, R4, R3, R4, L4, R3, L4, R78, R2, L3, R188, R2, R3, L2, R2, R3, R1, R5, R1, L1, L1, R4, R2, R1, R5, L1, R4, L4, R2, R5, L2, L5, R4, L3, L2, R1, R1, L5, L4, R1, L5, L1, L5, L1, L4, L3, L5, R4, R5, R2, L5, R5, R5, R4, R2, L1, L2, R3, R5, R5, R5, L2, L1, R4, R3, R1, L4, L2, L3, R2, L3, L5, L2, L2, L1, L2, R5, L2, L2, L3, L1, R1, L4, R2, L4, R3, R5, R3, R4, R1, R5, L3, L5, L5, L3, L2, L1, R3, L4, R3, R2, L1, R3, R1, L2, R4, L3, L3, L3, L1, L2\"\n",
    "\n",
    "assert adv1(from_string(input), stop_on_visited = False) == 279\n",
    "assert adv1(from_string(input), stop_on_visited = True) == 163"
   ]
  }
 ],
 "metadata": {
  "kernelspec": {
   "display_name": "Python 2",
   "language": "python",
   "name": "python2"
  },
  "language_info": {
   "codemirror_mode": {
    "name": "ipython",
    "version": 2
   },
   "file_extension": ".py",
   "mimetype": "text/x-python",
   "name": "python",
   "nbconvert_exporter": "python",
   "pygments_lexer": "ipython2",
   "version": "2.7.12"
  }
 },
 "nbformat": 4,
 "nbformat_minor": 1
}
